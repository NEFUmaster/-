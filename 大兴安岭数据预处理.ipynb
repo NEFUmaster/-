{
 "cells": [
  {
   "cell_type": "code",
   "execution_count": null,
   "id": "99f69b2e-7e9c-4c50-b117-88d2bd86ab66",
   "metadata": {
    "tags": []
   },
   "outputs": [],
   "source": [
    "import ee\n",
    "import geemap"
   ]
  },
  {
   "cell_type": "code",
   "execution_count": null,
   "id": "14e65d60-c2a2-44eb-9c43-bffde7e5fbc3",
   "metadata": {
    "tags": []
   },
   "outputs": [],
   "source": [
    "ee.Authenticate()#重新连接端口"
   ]
  },
  {
   "cell_type": "code",
   "execution_count": null,
   "id": "0c89757a-43c8-4607-be2b-fd53be86ec72",
   "metadata": {
    "tags": []
   },
   "outputs": [],
   "source": [
    "ee.Initialize()#重置刷新"
   ]
  },
  {
   "cell_type": "code",
   "execution_count": null,
   "id": "17f9ff22-9d0c-4124-83b5-adcd8dfff735",
   "metadata": {
    "tags": []
   },
   "outputs": [],
   "source": [
    "dxal = geemap.Map(center=[51.87,124.36],zoom=7,height=600)\n",
    "dxal.add_basemap('ROADMAP')\n",
    "#载入矢量数据集\n",
    "data = r'C:\\Users\\R6meg\\Desktop\\UTF8\\bianjie.shp'\n",
    "sl = geemap.shp_to_ee(data)\n",
    "dxal.addLayer(sl,{},'DXAL')\n",
    "# 依据字段筛选矢量数据\n",
    "# data0 = r'C:\\Users\\R6meg\\Desktop\\tree\\point_all.shp'\n",
    "data1 = r'C:\\Users\\R6meg\\Desktop\\tree\\GEE_train.shp'\n",
    "data2 = r'C:\\Users\\R6meg\\Desktop\\tree\\GEE_test.shp'\n",
    "data3 = r'C:\\Users\\R6meg\\Desktop\\tree\\train_add_maxent.shp'\n",
    "data4 = r'C:\\Users\\R6meg\\Desktop\\tree\\test_add_maxent.shp'\n",
    "# yd0 = geemap.shp_to_ee(data0)\n",
    "yd1 = geemap.shp_to_ee(data1)\n",
    "yd2 = geemap.shp_to_ee(data2)\n",
    "yd3 = geemap.shp_to_ee(data3)\n",
    "yd4 = geemap.shp_to_ee(data4)\n",
    "# dxal.addLayer(yd0,{},'yangdi_all')\n",
    "dxal.addLayer(yd1,{},'GEE_train')\n",
    "dxal.addLayer(yd2,{},'GEE_test')\n",
    "dxal.addLayer(yd1,{},'train_add_maxent')\n",
    "dxal.addLayer(yd2,{},'test_add_maxent')\n",
    "# 载入Sentinel2影像\n",
    "S2 = ee.ImageCollection(\"COPERNICUS/S2_SR_HARMONIZED\")\n",
    "# 根据矢量边界与日期筛选影像\n",
    "S2_2022 = S2.filterBounds(sl).filterDate('2022-05-01','2022-09-30')\n",
    "#载入哨兵2云处理影像\n",
    "S2_Clouds = ee.ImageCollection('COPERNICUS/S2_CLOUD_PROBABILITY')\n",
    "S2_Clouds_2022 = S2_Clouds.filterBounds(sl).filterDate('2022-05-01','2022-09-30')\n",
    "###############################################编写去云函数\n",
    "def maskEdges(s2_img):\n",
    "    return s2_img.updateMask(s2_img.select('B8A').mask()\n",
    "    .updateMask(s2_img.select('B9').mask()))\n",
    "def maskClouds(img):\n",
    "    clouds = ee.Image(img.get('cloud_mask')).select('probability')\n",
    "    isNotCloud = clouds.lt(5)#最大云概率为5\n",
    "    return img.updateMask(isNotCloud)\n",
    "S2_2022_image = S2_2022.map(maskEdges)\n",
    "s2SrWithCloudMask_2022 = ee.Join.saveFirst('cloud_mask').apply(**{\n",
    "    \"primary\": S2_2022_image,\n",
    "    \"secondary\": S2_Clouds_2022,\n",
    "    \"condition\": ee.Filter.equals(**{\n",
    "     \"leftField\": \"system:index\", \n",
    "     \"rightField\":\"system:index\"})\n",
    "     })\n",
    "s2CloudMasked = ee.ImageCollection(s2SrWithCloudMask_2022).map(maskClouds)\n",
    "######################################################################## 定义函数计算 NDVI\n",
    "def add_ndvi(image):\n",
    "    ndvi = image.normalizedDifference(['B8', 'B4']).rename('NDVI')\n",
    "    return image.addBands(ndvi).set('system:time_start', image.get('system:time_start'))\n",
    "dxal_NDVI = s2CloudMasked.map(add_ndvi)\n",
    "########################################################################## 计算月度融合NDVI\n",
    "monthly_ndvi = dxal_NDVI \\\n",
    "                        .map(lambda img: img.select(['NDVI']).set('system:time_start', img.get('system:time_start'))) \\\n",
    "                            .map(lambda img: img.set('month', img.date().get('month')))                   \n",
    "temp = ee.ImageCollection(monthly_ndvi.filter(ee.Filter.calendarRange(5, 5, 'month')).mean() \\\n",
    "    .set(\"system:time_start\", ee.Date.fromYMD(2022, 5, 1).millis()) \\\n",
    "    .set(\"system:index\", '2022_5_1')\n",
    ")\n",
    "# 循环遍历每个月份\n",
    "for j in range(6, 10):\n",
    "    # 选取当前月份的影像并计算平均值\n",
    "    data_collection = monthly_ndvi.filter(ee.Filter.calendarRange(j, j, 'month')).mean() \\\n",
    "                      .set('system:time_start', ee.Date.fromYMD(2022, j, 1).millis())\\\n",
    "                       .set(\"system:index\", '2022_'+str(j)+'_'+str(1))\n",
    "    # 合并当前月份的影像到月度合成图像中\n",
    "    temp = temp.merge(data_collection)\n",
    "#####################################################################################################################插值\n",
    "def func_won(image):\n",
    "  currentDate = ee.Date(image.get('system:time_start'))\n",
    "  meanImage = temp.filterDate(currentDate.advance(-2,'month'), currentDate.advance(2, 'month')).mean()\n",
    "  return meanImage.where(image, image)\n",
    "replacedVals = temp.map(func_won)\n",
    "replacedVals_a = replacedVals.filterBounds(sl).toBands()\n",
    "def stackCollection(collection):\n",
    "    first = ee.Image(collection.first()).select([])\n",
    "    def appendBands(image, previous):\n",
    "        return ee.Image(previous).addBands(image)\n",
    "    return ee.Image(collection.iterate(appendBands, first))\n",
    "stacked = stackCollection(replacedVals)\n",
    "stacked = stacked.select('NDVI', 'NDVI_1', 'NDVI_2', 'NDVI_3', 'NDVI_4') \\\n",
    "                 .rename('NDVI_May','NDVI_June','NDVI_July','NDVI_Aug','NDVI_Sep')\n",
    "################################################TVI\n",
    "def addTVI(image):\n",
    "    tvi = image.expression(\n",
    "        '(NIR - G) / (NIR + 0.5 * G - 1.5 * B)',\n",
    "        {   'NIR': image.select('B8').divide(10000), # 近红外波段\n",
    "            'G': image.select('B3').divide(10000), # 绿色波段\n",
    "            'B': image.select('B2').divide(10000), # 蓝色波段\n",
    "}).rename('TVI')\n",
    "    return image.addBands(tvi)\n",
    "dxal_tvi = dxal_NDVI.map(addTVI)\n",
    "########################################################MTCI\n",
    "def addMTCI(image):\n",
    "    mtci = image.expression('(RE2 - RE1)/ (RE1 - Red)', {\n",
    "    'RE2': image.select('B6').divide(10000),\n",
    "    'RE1': image.select('B5').divide(10000),\n",
    "    'Red': image.select('B4').divide(10000)\n",
    "    })\n",
    "    return image.addBands(mtci.rename('MTCI'))\n",
    "dxal_MTCI = dxal_tvi.map(addMTCI)\n",
    "########################################################NBR\n",
    "def add_nbr(image):\n",
    "    nbr = image.normalizedDifference(['B8', 'B12']).rename('NBR')\n",
    "    return image.addBands(nbr)\n",
    "dxal_NBR = dxal_MTCI.map(add_nbr)\n",
    "############################################################IRECI\n",
    "def addIRECI(image):\n",
    "    ireci = image.expression('(RE3 - R1)/ (RE1 - RE2)', {\n",
    "    'RE3': image.select('B7'),\n",
    "    'R1': image.select('B4'),\n",
    "    'RE1': image.select('B5'),\n",
    "    'RE2': image.select('B6')\n",
    "    }).float()\n",
    "    return image.addBands(ireci.rename('IRECI'))\n",
    "dxal_IRECI = dxal_NBR.map(addIRECI)\n",
    "#############################################################3MCARI2\n",
    "def addMCARI2(image):\n",
    "    mcari2 = image.expression('((RE2 - RE1) - 0.2 * (RE2-Green)) * (RE2/ RE1)', {\n",
    "    'RE2': image.select('B6').divide(10000),\n",
    "    'RE1': image.select('B5').divide(10000),\n",
    "    'Green': image.select('B3').divide(10000)\n",
    "    })\n",
    "    REP = image.expression('705+35*(0.5*(RED + RE3) - RE1) / (RE2 - RE1)', {\n",
    "    'RED': image.select('B4'),\n",
    "    'RE1': image.select('B5'),\n",
    "    'RE2': image.select('B6'),\n",
    "    'RE3': image.select('B7')\n",
    "    })\n",
    "    CIrededge = image.expression(('RE3 / RE1 -1'),{\n",
    "        'RE3':image.select('B7'),\n",
    "        'RE1':image.select('B5')\n",
    "    })\n",
    "    return image.addBands(mcari2.rename('MCARI2')) \\\n",
    "                .addBands(REP.rename('REP')) \\\n",
    "                .addBands(CIrededge.rename('CIrededge'))\n",
    "dxal_MCARI2 = dxal_IRECI.map(addMCARI2)\n",
    "###############################LSWI\n",
    "def add_LSWI(image):\n",
    "    lswi = image.normalizedDifference(['B8', 'B11']).rename('LSWI')\n",
    "    return image.addBands(lswi)\n",
    "dxal_LSWI = dxal_MCARI2.map(add_LSWI)\n",
    "###############################NDRE\n",
    "def add_NDRE(image):\n",
    "    NDRE = image.normalizedDifference(['B8', 'B5']).rename('NDRE')\n",
    "    Chl_NDI = image.normalizedDifference(['B6', 'B5']).rename('Chl_NDI')\n",
    "    NDSVI = image.normalizedDifference(['B11', 'B4']).rename('NDSVI')\n",
    "    NDTI = image.normalizedDifference(['B11', 'B6']).rename('NDTI')\n",
    "    NDSI = image.normalizedDifference(['B11', 'B12']).rename('NDSI')\n",
    "    NDBI = image.normalizedDifference(['B11' ,'B8']).rename('NDBI')\n",
    "    NDWI = image.normalizedDifference(['B3' ,'B8']).rename('NDWI')\n",
    "    return image.addBands(NDRE) \\\n",
    "                .addBands(Chl_NDI) \\\n",
    "                .addBands(NDSVI) \\\n",
    "                .addBands(NDTI) \\\n",
    "                .addBands(NDSI) \\\n",
    "                .addBands(NDBI) \\\n",
    "                .addBands(NDWI)\n",
    "dxal_NDRE = dxal_LSWI.map(add_NDRE)\n",
    "###########################################################################定义月度NDVI波段融合到原始影像\n",
    "dxal_NDVIS = dxal_NDRE.median().clipToCollection(sl)\n",
    "###########################计算GLCM灰度共生矩阵\n",
    "bands = dxal_NDVIS.select('B2', 'B3', 'B4', 'B5', 'B6', 'B7', 'B8', 'B8A', 'B11', 'B12')\n",
    "glcm = bands.divide(10000).unitScale(0,1).multiply(255).toInt16().glcmTexture(size = 3)\n",
    "glcm_bands = glcm.select(\n",
    "                         'B2_diss','B2_var','B2_savg','B2_shade','B2_corr','B3_diss','B3_var','B3_savg','B3_shade','B3_corr',\n",
    "                         'B4_diss','B4_var','B4_savg','B4_shade','B4_corr','B5_diss','B5_var','B5_savg','B5_shade','B5_corr',\n",
    "                         'B6_diss','B6_var','B6_savg','B6_shade','B6_corr','B7_diss','B7_var','B7_savg','B7_shade','B7_corr',\n",
    "                         'B8_diss','B8_var','B8_savg','B8_shade','B8_corr','B8A_diss','B8A_var','B8A_savg','B8A_shade','B8A_corr',\n",
    "                         'B11_diss','B11_var','B11_savg','B11_shade','B11_corr','B12_diss','B12_var','B12_savg','B12_shade','B12_corr'\n",
    ")\n",
    "con_bands = glcm.select('B2_contrast','B3_contrast','B4_contrast','B5_contrast','B6_contrast','B7_contrast','B8_contrast','B8A_contrast','B11_contrast','B12_contrast') \\\n",
    "                .rename('B2_con','B3_con','B4_con','B5_con','B6_con','B7_con','B8_con','B8A_con','B11_con','B12_con')\n",
    "###############################################计算缨帽变换\n",
    "coefficients = ee.Array([  \n",
    "  [0.0356, 0.0822, 0.1360, 0.2611, 0.2964, 0.3338, 0.3877, 0.3895, 0.0949, 0.3882, 0.1366, 0.4750],  \n",
    "  [-0.0635, -0.1128, -0.1680, -0.3480, -0.3303, 0.0852, 0.3302, 0.3165, 0.0467, -0.4578,  -0.4064, 0.3625],  \n",
    "  [0.0649, 0.1363, 0.2802, 0.3072, 0.5288, 0.1379, -0.0001, -0.0807, -0.0302,-0.4064, -0.5602,-0.1389]\n",
    "])\n",
    "arrayimageID1 = dxal_NDVIS.select(['B1','B2','B3','B4','B5','B6','B7','B8','B9','B11','B12','B8A']).toArray()\n",
    "arrayImageID2 = arrayimageID1.toArray(1)\n",
    "componentsImage = ee.Image(coefficients) \\\n",
    "                    .matrixMultiply(arrayImageID2) \\\n",
    "                    .arrayProject([0]) \\\n",
    "                    .arrayFlatten([['brightness', 'greenness', 'wetness']])\n",
    "vis_ktchange = {\n",
    "    'min' : -0.1,\n",
    "    'max' : [0.5, 0.1, 0.1],\n",
    "    'bands' : ['brightness', 'greenness', 'wetness']\n",
    "}\n",
    "dxal.addLayer(componentsImage,vis_ktchange,'componentsImage')\n",
    "##############################################加入maxent分类数据\n",
    "birch_image = ee.Image('projects/gaogao-gee-learn/assets/0_avg')\n",
    "larch_image = ee.Image('projects/gaogao-gee-learn/assets/1_avg')\n",
    "Mixed_coniferous_forest_image = ee.Image('projects/gaogao-gee-learn/assets/2_avg')\n",
    "mixed_broadleaf_forest_image = ee.Image('projects/gaogao-gee-learn/assets/3_avg')\n",
    "mixed_coniferous_and_broadleaf_forest_image = ee.Image('projects/gaogao-gee-learn/assets/4_avg')\n",
    "birch_band = birch_image.select('b1').rename('birch')\n",
    "larch_band = larch_image.select('b1').rename('larch')\n",
    "Mixed_coniferous_forest_band = Mixed_coniferous_forest_image.select('b1').rename('Mixed_2')\n",
    "mixed_broadleaf_forest_band = mixed_broadleaf_forest_image.select('b1').rename('mixed_3')\n",
    "mixed_coniferous_and_broadleaf_forest_band = mixed_coniferous_and_broadleaf_forest_image.select('b1').rename('mixed_4')\n",
    "#############################################计算海拔坡度坡向\n",
    "DEM = ee.Image(\"USGS/SRTMGL1_003\").clip(sl)\n",
    "elevation = ee.Terrain.products(DEM).select('elevation')\n",
    "slope = ee.Terrain.slope(DEM)\n",
    "aspect = ee.Terrain.aspect(DEM)\n",
    "###################################\n",
    "dxal_s2_image = dxal_NDVIS.addBands(stacked) \\\n",
    "                          .addBands(glcm_bands) \\\n",
    "                          .addBands(componentsImage) \\\n",
    "                          .addBands(elevation) \\\n",
    "                          .addBands(slope) \\\n",
    "                          .addBands(aspect) \\\n",
    "                          .addBands(con_bands) \\\n",
    "                          .addBands(birch_band) \\\n",
    "                          .addBands(larch_band) \\\n",
    "                          .addBands(Mixed_coniferous_forest_band) \\\n",
    "                          .addBands(mixed_broadleaf_forest_band) \\\n",
    "                          .addBands(mixed_coniferous_and_broadleaf_forest_band)                                                \n",
    "rgbVis = {\"min\": 0, \"max\": 3000, \"bands\": ['B4', 'B3', 'B2']};\n",
    "dxal.addLayer(dxal_s2_image,rgbVis,\"S2_NOCLOUD\")\n",
    "classified_image = ee.Image('projects/gaogao-gee-learn/assets/maxent_fin')\n",
    "dxal.addLayer(classified_image,{},\"classified_image\")\n",
    "dxal"
   ]
  },
  {
   "cell_type": "code",
   "execution_count": null,
   "id": "7db8c1e0-0a81-49e8-8824-eb163286c4c8",
   "metadata": {
    "tags": []
   },
   "outputs": [],
   "source": [
    "##############################################最小噪声变换\n",
    "import numpy as np\n",
    "from sklearn.decomposition import PCA\n",
    "\n",
    "# 定义函数将图像转换为像素级数据\n",
    "def convertToPixels(image):\n",
    "    # 选择波段并转换为数组\n",
    "    bands = ['B2', 'B3', 'B4', 'B5', 'B6', 'B7', 'B8', 'B8A','B11', 'B12',\n",
    "             'NDVI', 'TVI', 'MTCI', 'NBR', 'IRECI', 'MCARI2', 'REP', 'CIrededge', 'LSWI', 'NDRE', 'Chl_NDI', 'NDSVI', 'NDTI', 'NDSI', 'NDBI', 'NDWI'\n",
    "             ]  # 替换为你要使用的特征波段的名称\n",
    "    array = image.select(bands).toFloat().toArray()  \n",
    "    # 添加像素坐标作为属性\n",
    "    coords = ee.Image.pixelCoordinates(array.projection()).addBands(array)\n",
    "    # 转换为像素级数据\n",
    "    return coords.reduceRegion(reducer=ee.Reducer.toList(), geometry=image.geometry(), scale=30)\n",
    "\n",
    "image_collection = dxal_NDRE\n",
    "\n",
    "# 初始化一个空的特征矩阵列表\n",
    "feature_matrix_list = []\n",
    "\n",
    "# 遍历图像集合，将每个图像转换为像素级数据并添加到特征矩阵列表\n",
    "for image in dxal_NDRE.toList(dxal_NDRE.size()).getInfo():\n",
    "    pixel_values = np.array(convertToPixels(ee.Image(image)).getInfo().values())\n",
    "    feature_matrix_list.append(pixel_values)\n",
    "\n",
    "# 将特征矩阵列表转换为NumPy数组\n",
    "feature_matrix = np.concatenate(feature_matrix_list, axis=0)\n",
    "\n",
    "# 执行最小噪声变换（PCA）\n",
    "pca = PCA(n_components=3)  # 替换为你想要的主成分数量\n",
    "principal_components = pca.fit_transform(feature_matrix)"
   ]
  },
  {
   "cell_type": "code",
   "execution_count": null,
   "id": "1b35d65a-320a-451e-bd6a-bade0555367d",
   "metadata": {
    "tags": []
   },
   "outputs": [],
   "source": [
    "print(dxal_s2_image.bandNames().getInfo())"
   ]
  },
  {
   "cell_type": "code",
   "execution_count": null,
   "id": "e87d66c3-b634-44ce-8494-97c6b82b1094",
   "metadata": {
    "jupyter": {
     "source_hidden": true
    },
    "tags": []
   },
   "outputs": [],
   "source": [
    "# ################################################################################值提取到点\n",
    "points = ee.FeatureCollection(yd2)\n",
    "# maxent = dxal_s2_image.select('aspen', 'birch', 'larch', 'Soft_and_broad_mixed_forest', 'Quercus_forest', 'pinus_sylvestris', 'Coniferous_and_broad_leaved_mixed_forest_avg1', 'Hard_and_broad_mixed_forest', 'Mixed_coniferous_forest')\n",
    "bands = dxal_s2_image.select('elevation', 'slope', 'aspect',\n",
    "                             'B2', 'B3', 'B4', 'B5', 'B6', 'B7', 'B8', 'B8A','B11', 'B12',\n",
    "                             'NDVI', 'TVI', 'MTCI', 'NBR', 'IRECI', 'MCARI2', 'REP', 'CIrededge', 'LSWI', 'NDRE', 'Chl_NDI', 'NDSVI', 'NDTI', 'NDSI', 'NDBI', 'NDWI',\n",
    "                             'NDVI_May', 'NDVI_June', 'NDVI_July', 'NDVI_Aug', 'NDVI_Sep',\n",
    "                             'B2_con', 'B2_diss', 'B2_var', 'B2_savg', 'B2_shade', 'B2_corr', \n",
    "                             'B3_con', 'B3_diss', 'B3_var', 'B3_savg', 'B3_shade', 'B3_corr', \n",
    "                             'B4_con', 'B4_diss', 'B4_var', 'B4_savg', 'B4_shade', 'B4_corr', \n",
    "                             'B5_con', 'B5_diss', 'B5_var', 'B5_savg', 'B5_shade', 'B5_corr', \n",
    "                             'B6_con', 'B6_diss', 'B6_var', 'B6_savg', 'B6_shade', 'B6_corr', \n",
    "                             'B7_con', 'B7_diss', 'B7_var', 'B7_savg', 'B7_shade', 'B7_corr', \n",
    "                             'B8_con', 'B8_diss', 'B8_var', 'B8_savg', 'B8_shade', 'B8_corr', \n",
    "                             'B8A_con', 'B8A_diss', 'B8A_var', 'B8A_savg', 'B8A_shade', 'B8A_corr', \n",
    "                             'B11_con', 'B11_diss', 'B11_var', 'B11_savg', 'B11_shade', 'B11_corr', \n",
    "                             'B12_con', 'B12_diss', 'B12_var', 'B12_savg', 'B12_shade', 'B12_corr', \n",
    "                             'brightness', 'greenness', 'wetness'\n",
    "                             # 'birch', 'larch', 'Mixed_2', 'mixed_3', 'mixed_4'\n",
    ")\n",
    "geemap.extract_values_to_points(points, bands,'test.csv',30,tile_scale=2)\n",
    "# # geemap.extract_values_to_points(points, maxent,'maxent.csv',30)"
   ]
  },
  {
   "cell_type": "code",
   "execution_count": null,
   "id": "77ebc5a8-308a-40e4-806e-b6c9af615201",
   "metadata": {},
   "outputs": [],
   "source": [
    "print(yd1.size().getInfo())\n",
    "print(yd2.size().getInfo())\n",
    "print(yd3.size().getInfo())\n",
    "print(yd4.size().getInfo())"
   ]
  },
  {
   "cell_type": "code",
   "execution_count": null,
   "id": "2e602251-b6f8-442f-8553-0b73f4b7c129",
   "metadata": {
    "tags": []
   },
   "outputs": [],
   "source": [
    "feature_names = ['elevation', 'slope', 'aspect',\n",
    "                             'B2', 'B3', 'B4', 'B5', 'B6', 'B7', 'B8', 'B8A','B11', 'B12',\n",
    "                             'NDVI', 'TVI', 'MTCI', 'NBR', 'IRECI', 'MCARI2', 'REP', 'CIrededge', 'LSWI', 'NDRE', 'Chl_NDI', 'NDSVI', 'NDTI', 'NDSI', 'NDBI', 'NDWI',\n",
    "                             'NDVI_May', 'NDVI_June', 'NDVI_July', 'NDVI_Aug', 'NDVI_Sep',\n",
    "                             'B2_con', 'B2_diss', 'B2_var', 'B2_savg', 'B2_shade', 'B2_corr', \n",
    "                             'B3_con', 'B3_diss', 'B3_var', 'B3_savg', 'B3_shade', 'B3_corr', \n",
    "                             'B4_con', 'B4_diss', 'B4_var', 'B4_savg', 'B4_shade', 'B4_corr', \n",
    "                             'B5_con', 'B5_diss', 'B5_var', 'B5_savg', 'B5_shade', 'B5_corr', \n",
    "                             'B6_con', 'B6_diss', 'B6_var', 'B6_savg', 'B6_shade', 'B6_corr', \n",
    "                             'B7_con', 'B7_diss', 'B7_var', 'B7_savg', 'B7_shade', 'B7_corr', \n",
    "                             'B8_con', 'B8_diss', 'B8_var', 'B8_savg', 'B8_shade', 'B8_corr', \n",
    "                             'B8A_con', 'B8A_diss', 'B8A_var', 'B8A_savg', 'B8A_shade', 'B8A_corr', \n",
    "                             'B11_con', 'B11_diss', 'B11_var', 'B11_savg', 'B11_shade', 'B11_corr', \n",
    "                             'B12_con', 'B12_diss', 'B12_var', 'B12_savg', 'B12_shade', 'B12_corr', \n",
    "                             'brightness', 'greenness', 'wetness']\n",
    "# feature_names_30 = ['NDVI_July','B11_savg','elevation','NDVI_Sep','B8_savg',\n",
    "#                     'wetness','NDVI_May','B2_shade','B2_var','aspect',\n",
    "#                     'NDWI','NDVI_June','B3_shade','B5_savg','B3',\n",
    "#                     'B6_corr','slope','B7_corr','B8A_corr','NDSI'] \n",
    "                    # 'TVI','B2_corr','B8A_shade','B11','B12_var',\n",
    "                    # 'B4_shade','B12','B3_savg','NDRE','MCARI2',\n",
    "                    # 'B3_con','REP','B6_savg','B8_shade','Chl_NDI',\n",
    "                    # 'B11_shade','B6','B7_shade','B5_corr','B4']\n",
    "label = 'varieties'"
   ]
  },
  {
   "cell_type": "code",
   "execution_count": null,
   "id": "134a3423-b333-4ae3-bdd5-55b086bee188",
   "metadata": {
    "tags": []
   },
   "outputs": [],
   "source": [
    "params = {\n",
    "    'features': yd1,\n",
    "    'classProperty': label,\n",
    "    'inputProperties': feature_names\n",
    "}"
   ]
  },
  {
   "cell_type": "code",
   "execution_count": null,
   "id": "b169a3c7-00a3-43f1-b3d6-40c6eb193a90",
   "metadata": {
    "tags": []
   },
   "outputs": [],
   "source": [
    "############################################################################随机森林"
   ]
  },
  {
   "cell_type": "code",
   "execution_count": null,
   "id": "dae91438-723a-42de-929b-654ec892925c",
   "metadata": {
    "tags": []
   },
   "outputs": [],
   "source": [
    "classifier_RF= ee.Classifier.smileRandomForest(150).train(**params)"
   ]
  },
  {
   "cell_type": "code",
   "execution_count": null,
   "id": "ced81633-cebe-453b-b810-85e829cf6b8f",
   "metadata": {
    "tags": []
   },
   "outputs": [],
   "source": [
    "image = dxal_s2_image.toFloat()\n",
    "classified_RF = image.select(feature_names).classify(classifier_RF)\n",
    "vis_class = {\n",
    "    'min':'0',\n",
    "    'max':'4',\n",
    "    'palette': ['006400' ,'ffbb22', 'ffff4c', 'f096ff', 'fa0000']\n",
    "}\n",
    "dxal.addLayer(classified_RF,vis_class,'RF')\n",
    "legend_keys = ['桦树林','落叶松林','针叶混交林','阔叶混交林','针阔混交林']\n",
    "colors = ['006400' ,'ffbb22', 'ffff4c', 'f096ff', 'fa0000'] \n",
    "dxal.add_legend(\n",
    "    title=\"varieties\",labels=legend_keys,colors=colors, height='230px',position='bottomright'\n",
    ")\n",
    "dxal"
   ]
  },
  {
   "cell_type": "code",
   "execution_count": null,
   "id": "f3f8352c-ad58-467a-9198-e3e7cd06da1d",
   "metadata": {},
   "outputs": [],
   "source": [
    "validationSample_RF = yd2.classify(classifier_RF)\n",
    "validationAccuracy_RF = validationSample_RF.errorMatrix(label, 'classification')\n",
    "validationAccuracy_RF.getInfo()"
   ]
  },
  {
   "cell_type": "code",
   "execution_count": null,
   "id": "77a262d2-f919-478f-b72c-ef5ca4a0b717",
   "metadata": {},
   "outputs": [],
   "source": [
    "validationAccuracy_RF.kappa().getInfo()"
   ]
  },
  {
   "cell_type": "code",
   "execution_count": null,
   "id": "01db514d-fb58-4a54-b834-1a67a8e2384e",
   "metadata": {},
   "outputs": [],
   "source": [
    "validationAccuracy_RF.accuracy().getInfo()"
   ]
  },
  {
   "cell_type": "code",
   "execution_count": null,
   "id": "8c6b0f4c-604f-4f05-9802-c17e040b3479",
   "metadata": {},
   "outputs": [],
   "source": [
    "validationAccuracy_RF.producersAccuracy().getInfo()"
   ]
  },
  {
   "cell_type": "code",
   "execution_count": null,
   "id": "fce07dad-ddb2-4a65-95ba-099623d6d225",
   "metadata": {},
   "outputs": [],
   "source": [
    "validationAccuracy_RF.consumersAccuracy().getInfo()"
   ]
  },
  {
   "cell_type": "code",
   "execution_count": null,
   "id": "3f814205-366b-4172-b56b-af4493d020ab",
   "metadata": {},
   "outputs": [],
   "source": [
    "###############################################################################################SVM"
   ]
  },
  {
   "cell_type": "code",
   "execution_count": null,
   "id": "a47e6384-89df-48c5-86bd-22b8b4562fac",
   "metadata": {},
   "outputs": [],
   "source": [
    "classifier_SVM = ee.Classifier.libsvm().train(**params)"
   ]
  },
  {
   "cell_type": "code",
   "execution_count": null,
   "id": "723ceb26-0469-4ab0-a63a-bb25cdb19c58",
   "metadata": {
    "tags": []
   },
   "outputs": [],
   "source": [
    "image = dxal_s2_image.toFloat()\n",
    "classified_SVM = image.select(feature_names).classify(classifier_SVM)\n",
    "vis_class = {\n",
    "    'min':'0',\n",
    "    'max':'4',\n",
    "    'palette': ['006400' ,'ffbb22', 'ffff4c', 'f096ff', 'fa0000']\n",
    "}\n",
    "dxal.addLayer(classified_SVM,vis_class,'SVM')\n",
    "# legend_keys = ['桦树林','落叶松林','针叶混交林','阔叶混交林','针阔混交林']\n",
    "# colors = ['006400' ,'ffbb22', 'ffff4c', 'f096ff', 'fa0000'] \n",
    "# dxal.add_legend(\n",
    "#     title=\"varieties\",labels=legend_keys,colors=colors, height='100px',position='bottomright'\n",
    "# )\n",
    "dxal"
   ]
  },
  {
   "cell_type": "code",
   "execution_count": null,
   "id": "a7cb02c6-d54f-4884-a257-de55a262ef38",
   "metadata": {},
   "outputs": [],
   "source": [
    "validationSample_SVM = yd2.classify(classifier_SVM)\n",
    "validationAccuracy_SVM = validationSample_SVM.errorMatrix(label, 'classification')\n",
    "validationAccuracy_SVM.getInfo()"
   ]
  },
  {
   "cell_type": "code",
   "execution_count": null,
   "id": "0e927310-268b-44d3-bbf1-1dc668cb5c01",
   "metadata": {},
   "outputs": [],
   "source": [
    "validationAccuracy_SVM.kappa().getInfo()"
   ]
  },
  {
   "cell_type": "code",
   "execution_count": null,
   "id": "d5e2c198-55db-46e3-8165-96699053292c",
   "metadata": {
    "tags": []
   },
   "outputs": [],
   "source": [
    "validationAccuracy_SVM.accuracy().getInfo()"
   ]
  },
  {
   "cell_type": "code",
   "execution_count": null,
   "id": "57e5c4bb-131b-4dfd-bf0a-7b8ae6835326",
   "metadata": {
    "tags": []
   },
   "outputs": [],
   "source": [
    "validationAccuracy_SVM.producersAccuracy().getInfo()"
   ]
  },
  {
   "cell_type": "code",
   "execution_count": null,
   "id": "8b0d1be3-448c-43f3-b6bf-feda0094007e",
   "metadata": {
    "tags": []
   },
   "outputs": [],
   "source": [
    "validationAccuracy_SVM.consumersAccuracy().getInfo()"
   ]
  },
  {
   "cell_type": "code",
   "execution_count": null,
   "id": "ea711e8b-6805-4f47-af0b-040ad9ae83fe",
   "metadata": {},
   "outputs": [],
   "source": [
    "###########################################################################串行集成"
   ]
  },
  {
   "cell_type": "code",
   "execution_count": null,
   "id": "09bef184-f6df-47aa-98a9-2fa2d052dd41",
   "metadata": {},
   "outputs": [],
   "source": [
    "feature_names_maxent = ['elevation', 'slope', 'aspect',\n",
    "                             'B2', 'B3', 'B4', 'B5', 'B6', 'B7', 'B8', 'B8A','B11', 'B12',\n",
    "                             'NDVI', 'TVI', 'MTCI', 'NBR', 'IRECI', 'MCARI2', 'REP', 'CIrededge', 'LSWI', 'NDRE', 'Chl_NDI', 'NDSVI', 'NDTI', 'NDSI', 'NDBI', 'NDWI',\n",
    "                             'NDVI_May', 'NDVI_June', 'NDVI_July', 'NDVI_Aug', 'NDVI_Sep',\n",
    "                             'B2_con', 'B2_diss', 'B2_var', 'B2_savg', 'B2_shade', 'B2_corr', \n",
    "                             'B3_con', 'B3_diss', 'B3_var', 'B3_savg', 'B3_shade', 'B3_corr', \n",
    "                             'B4_con', 'B4_diss', 'B4_var', 'B4_savg', 'B4_shade', 'B4_corr', \n",
    "                             'B5_con', 'B5_diss', 'B5_var', 'B5_savg', 'B5_shade', 'B5_corr', \n",
    "                             'B6_con', 'B6_diss', 'B6_var', 'B6_savg', 'B6_shade', 'B6_corr', \n",
    "                             'B7_con', 'B7_diss', 'B7_var', 'B7_savg', 'B7_shade', 'B7_corr', \n",
    "                             'B8_con', 'B8_diss', 'B8_var', 'B8_savg', 'B8_shade', 'B8_corr', \n",
    "                             'B8A_con', 'B8A_diss', 'B8A_var', 'B8A_savg', 'B8A_shade', 'B8A_corr', \n",
    "                             'B11_con', 'B11_diss', 'B11_var', 'B11_savg', 'B11_shade', 'B11_corr', \n",
    "                             'B12_con', 'B12_diss', 'B12_var', 'B12_savg', 'B12_shade', 'B12_corr', \n",
    "                             'brightness', 'greenness', 'wetness',\n",
    "                             'birch', 'larch', 'Mixed_2', 'mixed_3', 'mixed_4']\n",
    "# feature_names_maxent = ['NDVI_July','B11_savg','elevation','NDVI_Sep','B8_savg',\n",
    "#                     'wetness','NDVI_May','B2_shade','B2_var','aspect',\n",
    "#                     'NDWI','NDVI_June','B3_shade','B5_savg','B3',\n",
    "#                     'B6_corr','slope','B7_corr','B8A_corr','NDSI',\n",
    "#                     'birch', 'larch', 'Mixed_2', 'mixed_3', 'mixed_4'] \n",
    "                    # 'TVI','B2_corr','B8A_shade','B11','B12_var',\n",
    "                    # 'B4_shade','B12','B3_savg','NDRE','MCARI2',\n",
    "                    # 'B3_con','REP','B6_savg','B8_shade','Chl_NDI',\n",
    "                    # 'B11_shade','B6','B7_shade','B5_corr','B4']\n",
    "label = 'varieties'"
   ]
  },
  {
   "cell_type": "code",
   "execution_count": null,
   "id": "b905f270-ded2-438a-b9a4-7c2a5d8bcd5f",
   "metadata": {},
   "outputs": [],
   "source": [
    "params_maxent = {\n",
    "    'features': yd3,\n",
    "    'classProperty': label,\n",
    "    'inputProperties': feature_names_maxent\n",
    "}"
   ]
  },
  {
   "cell_type": "code",
   "execution_count": null,
   "id": "f53d6221-d475-4299-809e-fbf46ea9ffdc",
   "metadata": {},
   "outputs": [],
   "source": [
    "classifier_RF_maxent= ee.Classifier.smileRandomForest(150).train(**params_maxent)"
   ]
  },
  {
   "cell_type": "code",
   "execution_count": null,
   "id": "712fd263-619f-41ff-ab20-5bd505bb683f",
   "metadata": {},
   "outputs": [],
   "source": [
    "image = dxal_s2_image.toFloat()\n",
    "classified_RF_maxent = image.select(feature_names_maxent).classify(classifier_RF_maxent)\n",
    "vis_class = {\n",
    "    'min':'0',\n",
    "    'max':'4',\n",
    "    'palette': ['006400' ,'ffbb22', 'ffff4c', 'f096ff', 'fa0000']\n",
    "}\n",
    "dxal.addLayer(classified_RF_maxent,vis_class,'RF_maxent')\n",
    "legend_keys = ['桦树林','落叶松林','针叶混交林','阔叶混交林','针阔混交林']\n",
    "colors = ['006400' ,'ffbb22', 'ffff4c', 'f096ff', 'fa0000'] \n",
    "dxal.add_legend(\n",
    "    title=\"varieties\",labels=legend_keys,colors=colors, height='230px',position='bottomright'\n",
    ")\n",
    "dxal"
   ]
  },
  {
   "cell_type": "code",
   "execution_count": null,
   "id": "4831ee0f-fcdd-4735-878b-60310d0e147a",
   "metadata": {
    "tags": []
   },
   "outputs": [],
   "source": [
    "validationSample_RF_maxent = yd4.classify(classifier_RF_maxent)\n",
    "validationAccuracy_RF_maxent = validationSample_RF_maxent.errorMatrix(label, 'classification')\n",
    "validationAccuracy_RF_maxent.getInfo()"
   ]
  },
  {
   "cell_type": "code",
   "execution_count": null,
   "id": "a35812c2-b66c-4e06-9fa7-e9b869658361",
   "metadata": {
    "tags": []
   },
   "outputs": [],
   "source": [
    "validationAccuracy_RF_maxent.kappa().getInfo()"
   ]
  },
  {
   "cell_type": "code",
   "execution_count": null,
   "id": "15d90c2f-6622-46cc-b4a4-e27e93a50ab5",
   "metadata": {
    "tags": []
   },
   "outputs": [],
   "source": [
    "validationAccuracy_RF_maxent.accuracy().getInfo()"
   ]
  },
  {
   "cell_type": "code",
   "execution_count": null,
   "id": "040dc20e-b326-4a8a-837c-df0617f72a60",
   "metadata": {},
   "outputs": [],
   "source": [
    "validationAccuracy_RF_maxent.producersAccuracy().getInfo()"
   ]
  },
  {
   "cell_type": "code",
   "execution_count": null,
   "id": "7e006804-fc3b-4e36-b0bf-37e9c836ee2f",
   "metadata": {},
   "outputs": [],
   "source": [
    "validationAccuracy_RF_maxent.consumersAccuracy().getInfo()"
   ]
  },
  {
   "cell_type": "code",
   "execution_count": null,
   "id": "0ca03ab7-013a-4aad-8b86-455117d5e590",
   "metadata": {},
   "outputs": [],
   "source": []
  },
  {
   "cell_type": "code",
   "execution_count": null,
   "id": "5efb098a-3bbd-43d5-820e-81e438a0b490",
   "metadata": {},
   "outputs": [],
   "source": []
  },
  {
   "cell_type": "code",
   "execution_count": null,
   "id": "a795fbb4-f7e2-4bab-bbdc-b0421c5bd613",
   "metadata": {},
   "outputs": [],
   "source": []
  },
  {
   "cell_type": "code",
   "execution_count": null,
   "id": "14e7fbd9-585f-46de-aa74-d266203597a5",
   "metadata": {},
   "outputs": [],
   "source": [
    "############################################################特征筛选"
   ]
  },
  {
   "cell_type": "code",
   "execution_count": null,
   "id": "8ebd7d0f-9182-4966-b5c1-a4d7362e9729",
   "metadata": {
    "jupyter": {
     "source_hidden": true
    },
    "tags": []
   },
   "outputs": [],
   "source": [
    "#######################################################RF随机森林重要性排序\n",
    "import matplotlib.cm as cm\n",
    "import matplotlib.pyplot as plt\n",
    "import numpy as np\n",
    "trained = ee.Classifier.smileRandomForest(150).train(**{\n",
    "  'features':yd1,\n",
    "  'classProperty':'varieties',\n",
    "  'inputProperties':feature_names\n",
    "});\n",
    "importance = trained.explain().get('importance').getInfo()\n",
    "a = sorted(importance.items(),key=lambda d:d[1],reverse = True)\n",
    "a2 = [(elem1,elem2) for elem1,elem2 in a]\n",
    "################################################\n",
    "plt.figure(figsize=(15,5),dpi=100)\n",
    "plt.bar(*zip(*a2),alpha=1,width=0.6); \n",
    "plt.xlabel('Bands')\n",
    "plt.ylabel('Importance')\n",
    "plt.xticks(rotation='vertical')\n",
    "plt.gca().xaxis.set_tick_params(pad=5)  # 调整标签与坐标轴的距离\n",
    "plt.show()\n",
    "######################\n",
    "# colors = ['red', 'green', 'blue', 'yellow', 'orange']\n",
    "# cmap = cm.get_cmap('tab10', len(a))\n",
    "# plt.figure(figsize=(15, 5), dpi=100)\n",
    "# plt.bar(*zip(*a2), alpha=1, width=0.6, color=cmap(range(len(a))))\n",
    "# plt.xlabel('Bands')\n",
    "# plt.ylabel('Importance')\n",
    "# plt.xticks(rotation='vertical')\n",
    "# plt.gca().xaxis.set_tick_params(pad=5)\n",
    "# plt.show()"
   ]
  },
  {
   "cell_type": "code",
   "execution_count": null,
   "id": "9c555b46-6ba8-41b9-be22-0f5d97aca91c",
   "metadata": {
    "jupyter": {
     "source_hidden": true
    },
    "tags": []
   },
   "outputs": [],
   "source": [
    "# 特征重要性排序\n",
    "sorted_importance = sorted(importance.items(), key=lambda d: d[1], reverse=True)\n",
    "# 记录精度和特征数量的列表\n",
    "accuracy_list = []\n",
    "feature_count_list = []\n",
    "# 逐个选择特征并建模\n",
    "for i in range(len(sorted_importance)):\n",
    "    selected_features = [item[0] for item in sorted_importance[:i+1]]\n",
    "    selected_features.append('varieties')\n",
    "    selected_classifier = ee.Classifier.smileRandomForest(150).train(**{\n",
    "        'features': yd1.select(selected_features),\n",
    "        'classProperty': label,\n",
    "        'inputProperties': selected_features\n",
    "    })\n",
    "    # 使用验证集计算精度\n",
    "    validation_accuracy = yd2.classify(selected_classifier).errorMatrix(label, 'classification').accuracy().getInfo()\n",
    "    accuracy_list.append(validation_accuracy)\n",
    "    feature_count_list.append(i+1)  # 添加特征数量到列表中\n",
    "# 绘制精度与特征数量的折线图\n",
    "plt.figure(figsize=(8, 6))\n",
    "plt.plot(feature_count_list, accuracy_list, linestyle='-', marker='None')\n",
    "plt.xticks(range(0, len(sorted_importance) + 1, 5))\n",
    "plt.xlabel('Number of Features')\n",
    "plt.ylabel('Accuracy')\n",
    "plt.title('Accuracy vs Number of Features')\n",
    "plt.xlim(0, len(sorted_importance) + 1)  # 设置X轴范围\n",
    "plt.show()"
   ]
  },
  {
   "cell_type": "code",
   "execution_count": null,
   "id": "3f8cdf7d-b482-4a5c-8b26-54c5249a1d6a",
   "metadata": {},
   "outputs": [],
   "source": []
  },
  {
   "cell_type": "code",
   "execution_count": null,
   "id": "13fd3245-8182-4746-b284-0045f4a324cd",
   "metadata": {},
   "outputs": [],
   "source": []
  },
  {
   "cell_type": "code",
   "execution_count": null,
   "id": "be6e5c81-5caf-4721-a143-c1dcefa29014",
   "metadata": {},
   "outputs": [],
   "source": [
    "#####################################################################maxent验证"
   ]
  },
  {
   "cell_type": "code",
   "execution_count": null,
   "id": "3e94683e-3e27-423d-bb67-b6c8d8da4d96",
   "metadata": {},
   "outputs": [],
   "source": [
    "lc = ee.Image('projects/gaogao-gee-learn/assets/maxent_fin')\n",
    "classValues = [0,1,2,3,4]\n",
    "remapValues = ee.List.sequence(0, 4)\n",
    "label = 'varieties'\n",
    "lc = lc.remap(classValues, remapValues).rename(label).toByte()"
   ]
  },
  {
   "cell_type": "code",
   "execution_count": null,
   "id": "aa8b6707-a498-431e-8403-a391e89facfa",
   "metadata": {},
   "outputs": [],
   "source": [
    "sample = img.addBands(lc).stratifiedSample(**{\n",
    "  'numPoints': 100,\n",
    "  'classBand': label,\n",
    "  'region': img.geometry(),\n",
    "  'scale': 10,\n",
    "  'geometries': True\n",
    "})\n"
   ]
  },
  {
   "cell_type": "code",
   "execution_count": null,
   "id": "d140f091-8cbf-4e61-b995-99837d777a4c",
   "metadata": {
    "tags": []
   },
   "outputs": [],
   "source": [
    "import numpy as np\n",
    "import geopandas as gpd\n",
    "from osgeo import gdal\n",
    "\n",
    "def sample_classification_results(classification_file, validation_file):\n",
    "    classification_dataset = gdal.Open(classification_file, gdal.GA_ReadOnly)\n",
    "    classification_data = classification_dataset.GetRasterBand(1).ReadAsArray()\n",
    "\n",
    "    validation_data = gpd.read_file(validation_file)\n",
    "    validation_labels = validation_data[\"varieties\"]\n",
    "\n",
    "    sampled_classification = []\n",
    "    sampled_validation = []\n",
    "\n",
    "    for index, row in validation_data.iterrows():\n",
    "        x = int(row.geometry.x)\n",
    "        y = int(row.geometry.y)\n",
    "\n",
    "        classification_label = classification_data[y, x]\n",
    "        validation_label = validation_labels[index]\n",
    "\n",
    "        if classification_label >= 0 and validation_label >= 0:\n",
    "            sampled_classification.append(classification_label)\n",
    "            sampled_validation.append(validation_label)\n",
    "\n",
    "    return np.array(sampled_classification), np.array(sampled_validation)\n",
    "\n",
    "def calculate_confusion_matrix(sampled_classification, sampled_validation, num_classes):\n",
    "    confusion_matrix = np.zeros((num_classes, num_classes), dtype=np.int)\n",
    "\n",
    "    for i in range(len(sampled_classification)):\n",
    "        predicted = sampled_classification[i]\n",
    "        actual = sampled_validation[i]\n",
    "        confusion_matrix[actual, predicted] += 1\n",
    "\n",
    "    return confusion_matrix\n",
    "\n",
    "def calculate_overall_accuracy(confusion_matrix):\n",
    "    diagonal_sum = np.trace(confusion_matrix)\n",
    "    total_sum = np.sum(confusion_matrix)\n",
    "    overall_accuracy = diagonal_sum / total_sum\n",
    "\n",
    "    return overall_accuracy\n",
    "\n",
    "# 示例用法\n",
    "classification_file = r\"E:\\maxent_tif\\max\\maxent_fin.tif\"\n",
    "validation_file = r\"C:\\Users\\R6meg\\Desktop\\tree\\GEE_test.shp\"\n",
    "num_classes = 5\n",
    "\n",
    "sampled_classification, sampled_validation = sample_classification_results(classification_file, validation_file)\n",
    "confusion_matrix = calculate_confusion_matrix(sampled_classification, sampled_validation, num_classes)\n",
    "overall_accuracy = calculate_overall_accuracy(confusion_matrix)\n",
    "\n",
    "print(\"Confusion Matrix:\")\n",
    "print(confusion_matrix)\n",
    "print(\"Overall Accuracy:\", overall_accuracy)"
   ]
  },
  {
   "cell_type": "code",
   "execution_count": null,
   "id": "9211067f-95d4-4860-b188-ac18f7090c1d",
   "metadata": {
    "tags": []
   },
   "outputs": [],
   "source": [
    "import numpy as np\n",
    "import geopandas as gpd\n",
    "from osgeo import gdal\n",
    "\n",
    "def calculate_confusion_matrix(classification_file, validation_file, num_classes):\n",
    "    classification_dataset = gdal.Open(classification_file, gdal.GA_ReadOnly)\n",
    "    classification_data = classification_dataset.GetRasterBand(1).ReadAsArray()\n",
    "\n",
    "    validation_data = gpd.read_file(validation_file)\n",
    "    validation_labels = validation_data[\"varieties\"]\n",
    "\n",
    "    confusion_matrix = np.zeros((num_classes, num_classes), dtype=np.int)\n",
    "\n",
    "    for index, row in validation_data.iterrows():\n",
    "        x = int(row.geometry.x)\n",
    "        y = int(row.geometry.y)\n",
    "\n",
    "        classification_label = classification_data[y, x]\n",
    "        validation_label = validation_labels[index]\n",
    "\n",
    "        if classification_label >= 0 and validation_label >= 0:\n",
    "            confusion_matrix[validation_label, classification_label] += 1\n",
    "\n",
    "    return confusion_matrix\n",
    "\n",
    "# 示例用法\n",
    "classification_file = r\"E:\\maxent_tif\\max\\maxent_fin.tif\"\n",
    "validation_file = r\"C:\\Users\\R6meg\\Desktop\\tree\\GEE_test.shp\"\n",
    "num_classes = 5\n",
    "\n",
    "confusion_matrix = calculate_confusion_matrix(classification_file, validation_file, num_classes)\n",
    "\n",
    "print(\"Confusion Matrix:\")\n",
    "print(confusion_matrix)"
   ]
  }
 ],
 "metadata": {
  "kernelspec": {
   "display_name": "Python 3 (ipykernel)",
   "language": "python",
   "name": "python3"
  },
  "language_info": {
   "codemirror_mode": {
    "name": "ipython",
    "version": 3
   },
   "file_extension": ".py",
   "mimetype": "text/x-python",
   "name": "python",
   "nbconvert_exporter": "python",
   "pygments_lexer": "ipython3",
   "version": "3.11.0"
  }
 },
 "nbformat": 4,
 "nbformat_minor": 5
}
