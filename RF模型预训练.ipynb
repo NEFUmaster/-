{
 "cells": [
  {
   "cell_type": "code",
   "execution_count": null,
   "id": "c8181203-3af7-4d8c-bf7d-e527ea4160b4",
   "metadata": {
    "tags": []
   },
   "outputs": [],
   "source": [
    "from sklearn.ensemble import RandomForestClassifier\n",
    "from sklearn.model_selection import train_test_split\n",
    "import pandas as pd\n",
    "import matplotlib.pyplot as plt\n",
    "import numpy as np\n",
    "# 加载数据集\n",
    "data = pd.read_csv('S-12.csv')\n",
    "data = data.dropna()\n",
    "# 划分训练集和测试集\n",
    "X = data.iloc[:, :-1]\n",
    "y = data.iloc[:, -1]\n",
    "X"
   ]
  },
  {
   "cell_type": "code",
   "execution_count": null,
   "id": "0edf1b9e-c206-4381-bd71-ae0dbdfe9297",
   "metadata": {
    "tags": []
   },
   "outputs": [],
   "source": [
    "y"
   ]
  },
  {
   "cell_type": "code",
   "execution_count": null,
   "id": "dbcff2f4-69b3-470b-b182-197d57dccc95",
   "metadata": {
    "tags": []
   },
   "outputs": [],
   "source": [
    "X_train, X_test, y_train, y_test = train_test_split(data.drop('SZ', axis=1), data['SZ'], test_size=0.25, random_state=50)\n",
    "# 初始化随机森林分类器\n",
    "rf = RandomForestClassifier(n_estimators=500,max_depth=5,random_state=50)\n",
    "# 训练随机森林模型\n",
    "rf.fit(X, y)\n",
    "# rf.fit(X_train, y_train)\n",
    "# 获取特征重要性排序\n",
    "importances = rf.feature_importances_\n",
    "indices = np.argsort(importances)[::-1]\n",
    "# 获取特征名字列表\n",
    "feature_names = list(data.columns[:-1])\n",
    "# 将特征重要性和名称打包为元组列表\n",
    "features = list(zip(feature_names, importances))\n",
    "# 按特征重要性得分排序\n",
    "sorted_features = sorted(features, key=lambda x: x[1], reverse=True)\n",
    "# 打印特征重要性得分列表\n",
    "for feature in sorted_features:\n",
    "    print(feature[0], feature[1])"
   ]
  },
  {
   "cell_type": "code",
   "execution_count": null,
   "id": "a1fb720b-b722-43ce-ad79-de1239b4ea2f",
   "metadata": {},
   "outputs": [],
   "source": [
    "#####################################将前X个特征保存至新csv\n",
    "# feature_names = [f[0] for f in sorted_features[:61]]\n",
    "# data_new = data[feature_names + ['varieties']]\n",
    "# data_new.to_csv('before_60feature.csv', index=False)"
   ]
  },
  {
   "cell_type": "code",
   "execution_count": null,
   "id": "e9cf0fc5-0541-4b63-a749-e55db4fc05f0",
   "metadata": {
    "tags": []
   },
   "outputs": [],
   "source": [
    "fig, ax = plt.subplots(figsize=(10, 20))\n",
    "bar_colors = plt.cm.get_cmap('Set2', 7)\n",
    "x_pos = np.arange(len(sorted_features))\n",
    "ax.barh(x_pos, [x[1] for x in sorted_features], color=bar_colors(x_pos % 7))#,height=0.5\n",
    "ax.set_yticks(x_pos)\n",
    "ax.set_yticklabels([x[0] for x in sorted_features])\n",
    "ax.invert_yaxis()\n",
    "ax.set_xlabel('Importance Score',fontsize=10)\n",
    "ax.set_ylabel('Feature',fontsize=10)\n",
    "ax.tick_params(axis='both', labelsize=12)\n",
    "ax.margins(x=0.05, y=0.01, tight=True)\n",
    "plt.subplots_adjust(top=0.95, bottom=0.05, left=0.3, right=0.95, hspace=0.1)\n",
    "plt.show()\n",
    "fig.tight_layout()\n",
    "fig.savefig('栾鑫告12_RF_importance.png', dpi=300, bbox_inches='tight')"
   ]
  },
  {
   "cell_type": "code",
   "execution_count": null,
   "id": "e825f9fa-70bd-4d73-85b5-04aefd0a4122",
   "metadata": {
    "tags": []
   },
   "outputs": [],
   "source": [
    "# 按照特征重要性排序逐步加入特征，并计算模型精度\n",
    "features = list(data.drop('SZ', axis=1).columns)\n",
    "accuracy_list = []\n",
    "feature_num_list = []\n",
    "for i in range(len(features)):\n",
    "    # 只选择前i+1个特征\n",
    "    selected_features = features[:i+1]\n",
    "    # 选择特征列\n",
    "    X_train_selected = X_train[selected_features]\n",
    "    X_test_selected = X_test[selected_features]\n",
    "    # 拟合模型\n",
    "    rf.fit(X_train_selected, y_train)\n",
    "    # 在测试集上进行预测\n",
    "    y_pred = rf.predict(X_test_selected)\n",
    "    # 计算模型精度\n",
    "    accuracy = sum(y_pred == y_test) / len(y_test)\n",
    "    # 记录模型精度和特征数量\n",
    "    accuracy_list.append(accuracy)\n",
    "    feature_num_list.append(i+1)\n",
    "\n",
    "# 绘制特征数量和模型精度之间的关系图\n",
    "fig, ax = plt.subplots()\n",
    "plt.plot(feature_num_list, accuracy_list, linestyle='-', linewidth=1)\n",
    "plt.ylim(0, 0.8)\n",
    "plt.xlabel('Number of Features')\n",
    "plt.ylabel('Accuracy')\n",
    "plt.show()\n",
    "fig.tight_layout()\n",
    "fig.savefig('栾鑫告12_importance.png', dpi=300, bbox_inches='tight')"
   ]
  }
 ],
 "metadata": {
  "kernelspec": {
   "display_name": "Python 3 (ipykernel)",
   "language": "python",
   "name": "python3"
  },
  "language_info": {
   "codemirror_mode": {
    "name": "ipython",
    "version": 3
   },
   "file_extension": ".py",
   "mimetype": "text/x-python",
   "name": "python",
   "nbconvert_exporter": "python",
   "pygments_lexer": "ipython3",
   "version": "3.11.0"
  }
 },
 "nbformat": 4,
 "nbformat_minor": 5
}
